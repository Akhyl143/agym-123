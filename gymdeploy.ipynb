{
 "cells": [
  {
   "cell_type": "code",
   "execution_count": 1,
   "id": "61b89b39",
   "metadata": {},
   "outputs": [],
   "source": [
    "import pandas as pd\n",
    "import numpy as np\n",
    "from sklearn import datasets\n",
    "from sklearn import metrics\n",
    "from sklearn.linear_model import LogisticRegression\n",
    "from sklearn.ensemble import RandomForestClassifier\n",
    "from sklearn.preprocessing import LabelEncoder"
   ]
  },
  {
   "cell_type": "code",
   "execution_count": 3,
   "id": "21c402d7",
   "metadata": {},
   "outputs": [],
   "source": [
    "gym=pd.read_excel(r\"C:\\Users\\USER\\Downloads\\dataGYM.xlsx\")"
   ]
  },
  {
   "cell_type": "code",
   "execution_count": 4,
   "id": "4f5c34e5",
   "metadata": {},
   "outputs": [
    {
     "data": {
      "text/html": [
       "<div>\n",
       "<style scoped>\n",
       "    .dataframe tbody tr th:only-of-type {\n",
       "        vertical-align: middle;\n",
       "    }\n",
       "\n",
       "    .dataframe tbody tr th {\n",
       "        vertical-align: top;\n",
       "    }\n",
       "\n",
       "    .dataframe thead th {\n",
       "        text-align: right;\n",
       "    }\n",
       "</style>\n",
       "<table border=\"1\" class=\"dataframe\">\n",
       "  <thead>\n",
       "    <tr style=\"text-align: right;\">\n",
       "      <th></th>\n",
       "      <th>Age</th>\n",
       "      <th>Height</th>\n",
       "      <th>weight</th>\n",
       "      <th>BMI</th>\n",
       "      <th>Class</th>\n",
       "      <th>Prediction</th>\n",
       "    </tr>\n",
       "  </thead>\n",
       "  <tbody>\n",
       "    <tr>\n",
       "      <th>0</th>\n",
       "      <td>48</td>\n",
       "      <td>4.1</td>\n",
       "      <td>86</td>\n",
       "      <td>40</td>\n",
       "      <td>Extremely obese</td>\n",
       "      <td>Extremely obese--normal exercise+yoga+heavy di...</td>\n",
       "    </tr>\n",
       "    <tr>\n",
       "      <th>1</th>\n",
       "      <td>53</td>\n",
       "      <td>4.1</td>\n",
       "      <td>91</td>\n",
       "      <td>42</td>\n",
       "      <td>Extremely obese</td>\n",
       "      <td>Extremely obese--normal exercise+yoga+heavy di...</td>\n",
       "    </tr>\n",
       "    <tr>\n",
       "      <th>2</th>\n",
       "      <td>42</td>\n",
       "      <td>4.1</td>\n",
       "      <td>95</td>\n",
       "      <td>44</td>\n",
       "      <td>Extremely obese</td>\n",
       "      <td>Extremely obese--normal exercise+yoga+heavy di...</td>\n",
       "    </tr>\n",
       "    <tr>\n",
       "      <th>3</th>\n",
       "      <td>48</td>\n",
       "      <td>4.1</td>\n",
       "      <td>100</td>\n",
       "      <td>46</td>\n",
       "      <td>Extremely obese</td>\n",
       "      <td>Extremely obese--normal exercise+yoga+heavy di...</td>\n",
       "    </tr>\n",
       "    <tr>\n",
       "      <th>4</th>\n",
       "      <td>22</td>\n",
       "      <td>4.1</td>\n",
       "      <td>104</td>\n",
       "      <td>48</td>\n",
       "      <td>Extremely obese</td>\n",
       "      <td>Extremely obese--normal exercise+yoga+heavy di...</td>\n",
       "    </tr>\n",
       "    <tr>\n",
       "      <th>...</th>\n",
       "      <td>...</td>\n",
       "      <td>...</td>\n",
       "      <td>...</td>\n",
       "      <td>...</td>\n",
       "      <td>...</td>\n",
       "      <td>...</td>\n",
       "    </tr>\n",
       "    <tr>\n",
       "      <th>1171</th>\n",
       "      <td>50</td>\n",
       "      <td>6.9</td>\n",
       "      <td>59</td>\n",
       "      <td>14</td>\n",
       "      <td>Under weight</td>\n",
       "      <td>Under weight--protines+carbs+normal weights -&gt;...</td>\n",
       "    </tr>\n",
       "    <tr>\n",
       "      <th>1172</th>\n",
       "      <td>49</td>\n",
       "      <td>6.9</td>\n",
       "      <td>64</td>\n",
       "      <td>15</td>\n",
       "      <td>Under weight</td>\n",
       "      <td>Under weight--protines+carbs+normal weights -&gt;...</td>\n",
       "    </tr>\n",
       "    <tr>\n",
       "      <th>1173</th>\n",
       "      <td>52</td>\n",
       "      <td>6.9</td>\n",
       "      <td>68</td>\n",
       "      <td>16</td>\n",
       "      <td>Under weight</td>\n",
       "      <td>Under weight--protines+carbs+normal weights -&gt;...</td>\n",
       "    </tr>\n",
       "    <tr>\n",
       "      <th>1174</th>\n",
       "      <td>36</td>\n",
       "      <td>6.9</td>\n",
       "      <td>73</td>\n",
       "      <td>17</td>\n",
       "      <td>Under weight</td>\n",
       "      <td>Under weight--protines+carbs+normal weights -&gt;...</td>\n",
       "    </tr>\n",
       "    <tr>\n",
       "      <th>1175</th>\n",
       "      <td>26</td>\n",
       "      <td>6.9</td>\n",
       "      <td>77</td>\n",
       "      <td>18</td>\n",
       "      <td>Under weight</td>\n",
       "      <td>Under weight--protines+carbs+normal weights -&gt;...</td>\n",
       "    </tr>\n",
       "  </tbody>\n",
       "</table>\n",
       "<p>1176 rows × 6 columns</p>\n",
       "</div>"
      ],
      "text/plain": [
       "      Age  Height  weight  BMI            Class  \\\n",
       "0      48     4.1      86   40  Extremely obese   \n",
       "1      53     4.1      91   42  Extremely obese   \n",
       "2      42     4.1      95   44  Extremely obese   \n",
       "3      48     4.1     100   46  Extremely obese   \n",
       "4      22     4.1     104   48  Extremely obese   \n",
       "...   ...     ...     ...  ...              ...   \n",
       "1171   50     6.9      59   14     Under weight   \n",
       "1172   49     6.9      64   15     Under weight   \n",
       "1173   52     6.9      68   16     Under weight   \n",
       "1174   36     6.9      73   17     Under weight   \n",
       "1175   26     6.9      77   18     Under weight   \n",
       "\n",
       "                                             Prediction  \n",
       "0     Extremely obese--normal exercise+yoga+heavy di...  \n",
       "1     Extremely obese--normal exercise+yoga+heavy di...  \n",
       "2     Extremely obese--normal exercise+yoga+heavy di...  \n",
       "3     Extremely obese--normal exercise+yoga+heavy di...  \n",
       "4     Extremely obese--normal exercise+yoga+heavy di...  \n",
       "...                                                 ...  \n",
       "1171  Under weight--protines+carbs+normal weights ->...  \n",
       "1172  Under weight--protines+carbs+normal weights ->...  \n",
       "1173  Under weight--protines+carbs+normal weights ->...  \n",
       "1174  Under weight--protines+carbs+normal weights ->...  \n",
       "1175  Under weight--protines+carbs+normal weights ->...  \n",
       "\n",
       "[1176 rows x 6 columns]"
      ]
     },
     "execution_count": 4,
     "metadata": {},
     "output_type": "execute_result"
    }
   ],
   "source": [
    "gym"
   ]
  },
  {
   "cell_type": "code",
   "execution_count": 5,
   "id": "396af519",
   "metadata": {},
   "outputs": [
    {
     "data": {
      "text/html": [
       "<div>\n",
       "<style scoped>\n",
       "    .dataframe tbody tr th:only-of-type {\n",
       "        vertical-align: middle;\n",
       "    }\n",
       "\n",
       "    .dataframe tbody tr th {\n",
       "        vertical-align: top;\n",
       "    }\n",
       "\n",
       "    .dataframe thead th {\n",
       "        text-align: right;\n",
       "    }\n",
       "</style>\n",
       "<table border=\"1\" class=\"dataframe\">\n",
       "  <thead>\n",
       "    <tr style=\"text-align: right;\">\n",
       "      <th></th>\n",
       "      <th>Age</th>\n",
       "      <th>Height</th>\n",
       "      <th>weight</th>\n",
       "      <th>BMI</th>\n",
       "      <th>Class</th>\n",
       "      <th>Prediction</th>\n",
       "    </tr>\n",
       "  </thead>\n",
       "  <tbody>\n",
       "    <tr>\n",
       "      <th>0</th>\n",
       "      <td>48</td>\n",
       "      <td>4.1</td>\n",
       "      <td>86</td>\n",
       "      <td>40</td>\n",
       "      <td>Extremely obese</td>\n",
       "      <td>Extremely obese--normal exercise+yoga+heavy di...</td>\n",
       "    </tr>\n",
       "    <tr>\n",
       "      <th>1</th>\n",
       "      <td>53</td>\n",
       "      <td>4.1</td>\n",
       "      <td>91</td>\n",
       "      <td>42</td>\n",
       "      <td>Extremely obese</td>\n",
       "      <td>Extremely obese--normal exercise+yoga+heavy di...</td>\n",
       "    </tr>\n",
       "    <tr>\n",
       "      <th>2</th>\n",
       "      <td>42</td>\n",
       "      <td>4.1</td>\n",
       "      <td>95</td>\n",
       "      <td>44</td>\n",
       "      <td>Extremely obese</td>\n",
       "      <td>Extremely obese--normal exercise+yoga+heavy di...</td>\n",
       "    </tr>\n",
       "    <tr>\n",
       "      <th>3</th>\n",
       "      <td>48</td>\n",
       "      <td>4.1</td>\n",
       "      <td>100</td>\n",
       "      <td>46</td>\n",
       "      <td>Extremely obese</td>\n",
       "      <td>Extremely obese--normal exercise+yoga+heavy di...</td>\n",
       "    </tr>\n",
       "    <tr>\n",
       "      <th>4</th>\n",
       "      <td>22</td>\n",
       "      <td>4.1</td>\n",
       "      <td>104</td>\n",
       "      <td>48</td>\n",
       "      <td>Extremely obese</td>\n",
       "      <td>Extremely obese--normal exercise+yoga+heavy di...</td>\n",
       "    </tr>\n",
       "  </tbody>\n",
       "</table>\n",
       "</div>"
      ],
      "text/plain": [
       "   Age  Height  weight  BMI            Class  \\\n",
       "0   48     4.1      86   40  Extremely obese   \n",
       "1   53     4.1      91   42  Extremely obese   \n",
       "2   42     4.1      95   44  Extremely obese   \n",
       "3   48     4.1     100   46  Extremely obese   \n",
       "4   22     4.1     104   48  Extremely obese   \n",
       "\n",
       "                                          Prediction  \n",
       "0  Extremely obese--normal exercise+yoga+heavy di...  \n",
       "1  Extremely obese--normal exercise+yoga+heavy di...  \n",
       "2  Extremely obese--normal exercise+yoga+heavy di...  \n",
       "3  Extremely obese--normal exercise+yoga+heavy di...  \n",
       "4  Extremely obese--normal exercise+yoga+heavy di...  "
      ]
     },
     "execution_count": 5,
     "metadata": {},
     "output_type": "execute_result"
    }
   ],
   "source": [
    "gym.head()"
   ]
  },
  {
   "cell_type": "code",
   "execution_count": 6,
   "id": "56d2c991",
   "metadata": {},
   "outputs": [],
   "source": [
    "gym[\"Class\"]=LabelEncoder().fit_transform(gym[\"Class\"])"
   ]
  },
  {
   "cell_type": "code",
   "execution_count": null,
   "id": "ac3c4d66",
   "metadata": {},
   "outputs": [],
   "source": []
  },
  {
   "cell_type": "code",
   "execution_count": 7,
   "id": "71eb6a1c",
   "metadata": {},
   "outputs": [
    {
     "data": {
      "text/html": [
       "<div>\n",
       "<style scoped>\n",
       "    .dataframe tbody tr th:only-of-type {\n",
       "        vertical-align: middle;\n",
       "    }\n",
       "\n",
       "    .dataframe tbody tr th {\n",
       "        vertical-align: top;\n",
       "    }\n",
       "\n",
       "    .dataframe thead th {\n",
       "        text-align: right;\n",
       "    }\n",
       "</style>\n",
       "<table border=\"1\" class=\"dataframe\">\n",
       "  <thead>\n",
       "    <tr style=\"text-align: right;\">\n",
       "      <th></th>\n",
       "      <th>Age</th>\n",
       "      <th>Height</th>\n",
       "      <th>weight</th>\n",
       "      <th>BMI</th>\n",
       "      <th>Class</th>\n",
       "      <th>Prediction</th>\n",
       "    </tr>\n",
       "  </thead>\n",
       "  <tbody>\n",
       "    <tr>\n",
       "      <th>0</th>\n",
       "      <td>48</td>\n",
       "      <td>4.1</td>\n",
       "      <td>86</td>\n",
       "      <td>40</td>\n",
       "      <td>1</td>\n",
       "      <td>Extremely obese--normal exercise+yoga+heavy di...</td>\n",
       "    </tr>\n",
       "    <tr>\n",
       "      <th>1</th>\n",
       "      <td>53</td>\n",
       "      <td>4.1</td>\n",
       "      <td>91</td>\n",
       "      <td>42</td>\n",
       "      <td>1</td>\n",
       "      <td>Extremely obese--normal exercise+yoga+heavy di...</td>\n",
       "    </tr>\n",
       "    <tr>\n",
       "      <th>2</th>\n",
       "      <td>42</td>\n",
       "      <td>4.1</td>\n",
       "      <td>95</td>\n",
       "      <td>44</td>\n",
       "      <td>1</td>\n",
       "      <td>Extremely obese--normal exercise+yoga+heavy di...</td>\n",
       "    </tr>\n",
       "    <tr>\n",
       "      <th>3</th>\n",
       "      <td>48</td>\n",
       "      <td>4.1</td>\n",
       "      <td>100</td>\n",
       "      <td>46</td>\n",
       "      <td>1</td>\n",
       "      <td>Extremely obese--normal exercise+yoga+heavy di...</td>\n",
       "    </tr>\n",
       "    <tr>\n",
       "      <th>4</th>\n",
       "      <td>22</td>\n",
       "      <td>4.1</td>\n",
       "      <td>104</td>\n",
       "      <td>48</td>\n",
       "      <td>1</td>\n",
       "      <td>Extremely obese--normal exercise+yoga+heavy di...</td>\n",
       "    </tr>\n",
       "  </tbody>\n",
       "</table>\n",
       "</div>"
      ],
      "text/plain": [
       "   Age  Height  weight  BMI  Class  \\\n",
       "0   48     4.1      86   40      1   \n",
       "1   53     4.1      91   42      1   \n",
       "2   42     4.1      95   44      1   \n",
       "3   48     4.1     100   46      1   \n",
       "4   22     4.1     104   48      1   \n",
       "\n",
       "                                          Prediction  \n",
       "0  Extremely obese--normal exercise+yoga+heavy di...  \n",
       "1  Extremely obese--normal exercise+yoga+heavy di...  \n",
       "2  Extremely obese--normal exercise+yoga+heavy di...  \n",
       "3  Extremely obese--normal exercise+yoga+heavy di...  \n",
       "4  Extremely obese--normal exercise+yoga+heavy di...  "
      ]
     },
     "execution_count": 7,
     "metadata": {},
     "output_type": "execute_result"
    }
   ],
   "source": [
    "gym.head()\n"
   ]
  },
  {
   "cell_type": "code",
   "execution_count": 8,
   "id": "2f55e426",
   "metadata": {},
   "outputs": [
    {
     "data": {
      "text/plain": [
       "3    281\n",
       "5    248\n",
       "2    232\n",
       "1    212\n",
       "4    199\n",
       "0      4\n",
       "Name: Class, dtype: int64"
      ]
     },
     "execution_count": 8,
     "metadata": {},
     "output_type": "execute_result"
    }
   ],
   "source": [
    "gym[\"Class\"].value_counts()"
   ]
  },
  {
   "cell_type": "code",
   "execution_count": 9,
   "id": "e57a9fa8",
   "metadata": {},
   "outputs": [
    {
     "data": {
      "text/html": [
       "<div>\n",
       "<style scoped>\n",
       "    .dataframe tbody tr th:only-of-type {\n",
       "        vertical-align: middle;\n",
       "    }\n",
       "\n",
       "    .dataframe tbody tr th {\n",
       "        vertical-align: top;\n",
       "    }\n",
       "\n",
       "    .dataframe thead th {\n",
       "        text-align: right;\n",
       "    }\n",
       "</style>\n",
       "<table border=\"1\" class=\"dataframe\">\n",
       "  <thead>\n",
       "    <tr style=\"text-align: right;\">\n",
       "      <th></th>\n",
       "      <th>Age</th>\n",
       "      <th>Height</th>\n",
       "      <th>weight</th>\n",
       "    </tr>\n",
       "  </thead>\n",
       "  <tbody>\n",
       "    <tr>\n",
       "      <th>0</th>\n",
       "      <td>48</td>\n",
       "      <td>4.1</td>\n",
       "      <td>86</td>\n",
       "    </tr>\n",
       "    <tr>\n",
       "      <th>1</th>\n",
       "      <td>53</td>\n",
       "      <td>4.1</td>\n",
       "      <td>91</td>\n",
       "    </tr>\n",
       "    <tr>\n",
       "      <th>2</th>\n",
       "      <td>42</td>\n",
       "      <td>4.1</td>\n",
       "      <td>95</td>\n",
       "    </tr>\n",
       "    <tr>\n",
       "      <th>3</th>\n",
       "      <td>48</td>\n",
       "      <td>4.1</td>\n",
       "      <td>100</td>\n",
       "    </tr>\n",
       "    <tr>\n",
       "      <th>4</th>\n",
       "      <td>22</td>\n",
       "      <td>4.1</td>\n",
       "      <td>104</td>\n",
       "    </tr>\n",
       "  </tbody>\n",
       "</table>\n",
       "</div>"
      ],
      "text/plain": [
       "   Age  Height  weight\n",
       "0   48     4.1      86\n",
       "1   53     4.1      91\n",
       "2   42     4.1      95\n",
       "3   48     4.1     100\n",
       "4   22     4.1     104"
      ]
     },
     "execution_count": 9,
     "metadata": {},
     "output_type": "execute_result"
    }
   ],
   "source": [
    "x=gym.iloc[:,:3]\n",
    "x.head()"
   ]
  },
  {
   "cell_type": "code",
   "execution_count": 10,
   "id": "7d76b9e9",
   "metadata": {},
   "outputs": [
    {
     "data": {
      "text/html": [
       "<div>\n",
       "<style scoped>\n",
       "    .dataframe tbody tr th:only-of-type {\n",
       "        vertical-align: middle;\n",
       "    }\n",
       "\n",
       "    .dataframe tbody tr th {\n",
       "        vertical-align: top;\n",
       "    }\n",
       "\n",
       "    .dataframe thead th {\n",
       "        text-align: right;\n",
       "    }\n",
       "</style>\n",
       "<table border=\"1\" class=\"dataframe\">\n",
       "  <thead>\n",
       "    <tr style=\"text-align: right;\">\n",
       "      <th></th>\n",
       "      <th>Prediction</th>\n",
       "    </tr>\n",
       "  </thead>\n",
       "  <tbody>\n",
       "    <tr>\n",
       "      <th>0</th>\n",
       "      <td>Extremely obese--normal exercise+yoga+heavy di...</td>\n",
       "    </tr>\n",
       "    <tr>\n",
       "      <th>1</th>\n",
       "      <td>Extremely obese--normal exercise+yoga+heavy di...</td>\n",
       "    </tr>\n",
       "    <tr>\n",
       "      <th>2</th>\n",
       "      <td>Extremely obese--normal exercise+yoga+heavy di...</td>\n",
       "    </tr>\n",
       "    <tr>\n",
       "      <th>3</th>\n",
       "      <td>Extremely obese--normal exercise+yoga+heavy di...</td>\n",
       "    </tr>\n",
       "    <tr>\n",
       "      <th>4</th>\n",
       "      <td>Extremely obese--normal exercise+yoga+heavy di...</td>\n",
       "    </tr>\n",
       "  </tbody>\n",
       "</table>\n",
       "</div>"
      ],
      "text/plain": [
       "                                          Prediction\n",
       "0  Extremely obese--normal exercise+yoga+heavy di...\n",
       "1  Extremely obese--normal exercise+yoga+heavy di...\n",
       "2  Extremely obese--normal exercise+yoga+heavy di...\n",
       "3  Extremely obese--normal exercise+yoga+heavy di...\n",
       "4  Extremely obese--normal exercise+yoga+heavy di..."
      ]
     },
     "execution_count": 10,
     "metadata": {},
     "output_type": "execute_result"
    }
   ],
   "source": [
    "y=gym.iloc[:,5:]\n",
    "y.head()"
   ]
  },
  {
   "cell_type": "code",
   "execution_count": 11,
   "id": "567f8646",
   "metadata": {},
   "outputs": [],
   "source": [
    "from sklearn.model_selection import train_test_split\n",
    "x_train,x_test,y_train,y_test=train_test_split(x,y,test_size=0.2)"
   ]
  },
  {
   "cell_type": "code",
   "execution_count": 12,
   "id": "93f42aab",
   "metadata": {},
   "outputs": [
    {
     "name": "stderr",
     "output_type": "stream",
     "text": [
      "C:\\Users\\USER\\AppData\\Local\\Temp/ipykernel_7988/2443188472.py:2: DataConversionWarning: A column-vector y was passed when a 1d array was expected. Please change the shape of y to (n_samples,), for example using ravel().\n",
      "  model_GY.fit(x_train,y_train)\n"
     ]
    },
    {
     "data": {
      "text/plain": [
       "RandomForestClassifier(n_estimators=20)"
      ]
     },
     "execution_count": 12,
     "metadata": {},
     "output_type": "execute_result"
    }
   ],
   "source": [
    "model_GY=RandomForestClassifier(n_estimators=20)\n",
    "model_GY.fit(x_train,y_train)"
   ]
  },
  {
   "cell_type": "code",
   "execution_count": 13,
   "id": "878ba050",
   "metadata": {},
   "outputs": [],
   "source": [
    "expected=y_test\n",
    "predicted=model_GY.predict(x_test)"
   ]
  },
  {
   "cell_type": "code",
   "execution_count": 14,
   "id": "1d8f236f",
   "metadata": {},
   "outputs": [
    {
     "data": {
      "text/plain": [
       "array([[34,  0,  8,  0,  0],\n",
       "       [ 0, 40,  3,  2, 11],\n",
       "       [ 2,  0, 50,  3,  0],\n",
       "       [ 1,  9,  7, 22,  1],\n",
       "       [ 0,  1,  0,  0, 42]], dtype=int64)"
      ]
     },
     "execution_count": 14,
     "metadata": {},
     "output_type": "execute_result"
    }
   ],
   "source": [
    "metrics.classification_report(expected,predicted)\n",
    "metrics.confusion_matrix(expected,predicted)"
   ]
  },
  {
   "cell_type": "code",
   "execution_count": 15,
   "id": "8b254233",
   "metadata": {},
   "outputs": [
    {
     "name": "stdout",
     "output_type": "stream",
     "text": [
      "                                                                       precision    recall  f1-score   support\n",
      "\n",
      "Extremely obese--normal exercise+yoga+heavy dite control+TIPS ->Obese       0.92      0.81      0.86        42\n",
      "                                 Healthy--fitness+protine+simple dite       0.80      0.71      0.75        56\n",
      "                      Obese--slow lean+protine+full dite ->Overweight       0.74      0.91      0.81        55\n",
      "                Overweight--lean+cardio+protine+normal dite ->Healthy       0.81      0.55      0.66        40\n",
      "                Under weight--protines+carbs+normal weights ->Healthy       0.78      0.98      0.87        43\n",
      "\n",
      "                                                             accuracy                           0.80       236\n",
      "                                                            macro avg       0.81      0.79      0.79       236\n",
      "                                                         weighted avg       0.80      0.80      0.79       236\n",
      "\n",
      "[[34  0  8  0  0]\n",
      " [ 0 40  3  2 11]\n",
      " [ 2  0 50  3  0]\n",
      " [ 1  9  7 22  1]\n",
      " [ 0  1  0  0 42]]\n"
     ]
    }
   ],
   "source": [
    "print(metrics.classification_report(expected,predicted))\n",
    "print(metrics.confusion_matrix(expected,predicted))"
   ]
  },
  {
   "cell_type": "code",
   "execution_count": 20,
   "id": "b0976006",
   "metadata": {},
   "outputs": [],
   "source": [
    "import pickle"
   ]
  },
  {
   "cell_type": "code",
   "execution_count": 21,
   "id": "34ef7750",
   "metadata": {},
   "outputs": [
    {
     "name": "stdout",
     "output_type": "stream",
     "text": [
      "['Under weight--protines+carbs+normal weights ->Healthy']\n"
     ]
    }
   ],
   "source": [
    "pickle.dump(model_GY,open(\"model_GY.pkl\",\"wb\"))\n",
    "mdl=pickle.load(open(\"model_GY.pkl\",\"rb\"))\n",
    "print(mdl.predict([[6,15,75]]))"
   ]
  },
  {
   "cell_type": "code",
   "execution_count": null,
   "id": "f44e8428",
   "metadata": {},
   "outputs": [],
   "source": []
  },
  {
   "cell_type": "code",
   "execution_count": null,
   "id": "a9c4a9f0",
   "metadata": {},
   "outputs": [],
   "source": []
  },
  {
   "cell_type": "code",
   "execution_count": null,
   "id": "210b06b4",
   "metadata": {},
   "outputs": [],
   "source": []
  }
 ],
 "metadata": {
  "kernelspec": {
   "display_name": "Python 3 (ipykernel)",
   "language": "python",
   "name": "python3"
  },
  "language_info": {
   "codemirror_mode": {
    "name": "ipython",
    "version": 3
   },
   "file_extension": ".py",
   "mimetype": "text/x-python",
   "name": "python",
   "nbconvert_exporter": "python",
   "pygments_lexer": "ipython3",
   "version": "3.9.7"
  }
 },
 "nbformat": 4,
 "nbformat_minor": 5
}
